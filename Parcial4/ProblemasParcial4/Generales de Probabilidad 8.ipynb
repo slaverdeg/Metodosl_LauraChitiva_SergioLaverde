{
 "cells": [
  {
   "cell_type": "code",
   "execution_count": 64,
   "metadata": {},
   "outputs": [],
   "source": [
    "import numpy as np\n",
    "import matplotlib.pyplot as plt\n",
    "from itertools import product"
   ]
  },
  {
   "cell_type": "markdown",
   "metadata": {},
   "source": [
    "# 8."
   ]
  },
  {
   "cell_type": "markdown",
   "metadata": {},
   "source": [
    "Primera parte"
   ]
  },
  {
   "cell_type": "code",
   "execution_count": 65,
   "metadata": {},
   "outputs": [
    {
     "data": {
      "text/plain": [
       "[(-1, -1, 1, 1),\n",
       " (-1, 1, -1, 1),\n",
       " (-1, 1, 1, -1),\n",
       " (1, -1, -1, 1),\n",
       " (1, -1, 1, -1),\n",
       " (1, 1, -1, -1)]"
      ]
     },
     "execution_count": 65,
     "metadata": {},
     "output_type": "execute_result"
    }
   ],
   "source": [
    "def prior (a):\n",
    "    if a == 1:\n",
    "        return 0.5 #cara\n",
    "    elif a == -1:\n",
    "        return 0.5 #sello\n",
    "    else:\n",
    "        return None\n",
    "\n",
    "digits = [-1,1]\n",
    "combinations = list(product(digits, repeat=4))\n",
    "\n",
    "com_ = []\n",
    "for i in combinations:\n",
    "    if sum(i) == 0:\n",
    "        com_.append(i)\n",
    "com_"
   ]
  },
  {
   "cell_type": "code",
   "execution_count": 66,
   "metadata": {},
   "outputs": [
    {
     "data": {
      "text/plain": [
       "[<matplotlib.lines.Line2D at 0x1cced0cdc70>]"
      ]
     },
     "execution_count": 66,
     "metadata": {},
     "output_type": "execute_result"
    },
    {
     "data": {
      "image/png": "[encoded data removed]",
      "text/plain": [
       "<Figure size 432x288 with 1 Axes>"
      ]
     },
     "metadata": {
      "needs_background": "light"
     },
     "output_type": "display_data"
    }
   ],
   "source": [
    "P = []\n",
    "for i in com_:\n",
    "    p = 1\n",
    "    for j in i:\n",
    "        p *= prior(j)\n",
    "    P.append(p)\n",
    "\n",
    "plt.plot(P)"
   ]
  },
  {
   "cell_type": "code",
   "execution_count": 67,
   "metadata": {},
   "outputs": [
    {
     "data": {
      "text/plain": [
       "0.375"
      ]
     },
     "execution_count": 67,
     "metadata": {},
     "output_type": "execute_result"
    }
   ],
   "source": [
    "p = sum(P)\n",
    "p"
   ]
  },
  {
   "cell_type": "code",
   "execution_count": 68,
   "metadata": {},
   "outputs": [
    {
     "data": {
      "text/plain": [
       "0.375"
      ]
     },
     "execution_count": 68,
     "metadata": {},
     "output_type": "execute_result"
    }
   ],
   "source": [
    "3/8"
   ]
  },
  {
   "cell_type": "markdown",
   "metadata": {},
   "source": [
    "Segunda parte"
   ]
  },
  {
   "cell_type": "code",
   "execution_count": 69,
   "metadata": {},
   "outputs": [
    {
     "data": {
      "text/plain": [
       "array([[ 1.,  1.,  1.,  1.],\n",
       "       [-1., -1.,  1., -1.],\n",
       "       [ 1., -1., -1.,  1.],\n",
       "       ...,\n",
       "       [-1.,  1.,  1., -1.],\n",
       "       [-1., -1.,  1., -1.],\n",
       "       [-1., -1., -1., -1.]])"
      ]
     },
     "execution_count": 69,
     "metadata": {},
     "output_type": "execute_result"
    }
   ],
   "source": [
    "def GetSample(N = int(1e4), ncoins = 4, Weights=None):\n",
    "    \n",
    "    Sample = np.zeros((N,ncoins))\n",
    "    \n",
    "    Events = [-1,1]\n",
    "    \n",
    "    for i in range(N):\n",
    "        \n",
    "        if Weights == None:\n",
    "            Exp = np.random.choice(Events,ncoins)\n",
    "            \n",
    "       # print(Exp)\n",
    "        Sample[i] = Exp\n",
    "        \n",
    "    return Sample\n",
    "\n",
    "N = int(1e5)\n",
    "Sample = GetSample(N, ncoins = 4, Weights=None)\n",
    "Sample"
   ]
  },
  {
   "cell_type": "code",
   "execution_count": 70,
   "metadata": {},
   "outputs": [],
   "source": [
    "FrecuenciasCaras = np.array([],dtype=np.int64)\n",
    "FrecuenciasSellos = np.array([],dtype=np.int64)\n",
    "\n",
    "for i in range(Sample.shape[0]):\n",
    "    \n",
    "    NCaras = 0\n",
    "    NSellos = 0\n",
    "    \n",
    "    for j in range(Sample.shape[1]):\n",
    "        \n",
    "        if Sample[i,j] == 1:\n",
    "            NCaras += 1\n",
    "        if Sample[i,j] == -1:\n",
    "            NSellos += 1\n",
    "            \n",
    "    FrecuenciasCaras = np.append(FrecuenciasCaras,NCaras)\n",
    "    FrecuenciasSellos = np.append(FrecuenciasSellos,NSellos)"
   ]
  },
  {
   "cell_type": "code",
   "execution_count": 71,
   "metadata": {},
   "outputs": [
    {
     "data": {
      "text/plain": [
       "0.37415"
      ]
     },
     "execution_count": 71,
     "metadata": {},
     "output_type": "execute_result"
    }
   ],
   "source": [
    "ii = np.where( FrecuenciasCaras == 2 )\n",
    "EventsCaras = len(FrecuenciasCaras[ii])\n",
    "\n",
    "pC = EventsCaras/N\n",
    "pC"
   ]
  },
  {
   "cell_type": "code",
   "execution_count": 72,
   "metadata": {},
   "outputs": [
    {
     "data": {
      "text/plain": [
       "0.37415"
      ]
     },
     "execution_count": 72,
     "metadata": {},
     "output_type": "execute_result"
    }
   ],
   "source": [
    "ii = np.where( FrecuenciasSellos == 2 )\n",
    "EventsSellos = len(FrecuenciasSellos[ii])\n",
    "\n",
    "pS = EventsSellos/N\n",
    "pS"
   ]
  },
  {
   "cell_type": "markdown",
   "metadata": {},
   "source": [
    "Dado que si en una lanzada de 4 monedas 2 son cara, Necesariamente las otras 2 son sello. Por lo tanto estamos hablando de una probabilidad condicionada.\n",
    "\n",
    "P(AnB) = P(A/B)*P(B),  Sabemos que P(A/B) = 1."
   ]
  },
  {
   "cell_type": "code",
   "execution_count": 75,
   "metadata": {},
   "outputs": [
    {
     "data": {
      "text/plain": [
       "0.37415"
      ]
     },
     "execution_count": 75,
     "metadata": {},
     "output_type": "execute_result"
    }
   ],
   "source": [
    "P = 1 * pS\n",
    "P"
   ]
  },
  {
   "cell_type": "code",
   "execution_count": 74,
   "metadata": {},
   "outputs": [
    {
     "data": {
      "text/plain": [
       "0.375"
      ]
     },
     "execution_count": 74,
     "metadata": {},
     "output_type": "execute_result"
    }
   ],
   "source": [
    "3/8"
   ]
  }
 ],
 "metadata": {
  "kernelspec": {
   "display_name": "base",
   "language": "python",
   "name": "python3"
  },
  "language_info": {
   "codemirror_mode": {
    "name": "ipython",
    "version": 3
   },
   "file_extension": ".py",
   "mimetype": "text/x-python",
   "name": "python",
   "nbconvert_exporter": "python",
   "pygments_lexer": "ipython3",
   "version": "3.9.7"
  }
 },
 "nbformat": 4,
 "nbformat_minor": 2
}
