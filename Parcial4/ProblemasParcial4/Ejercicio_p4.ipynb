{
 "cells": [
  {
   "cell_type": "code",
   "execution_count": 40,
   "metadata": {},
   "outputs": [],
   "source": [
    "import numpy as np\n",
    "import matplotlib.pyplot as plt\n",
    "import sympy as sym\n",
    "import scipy.optimize as sp\n",
    "from itertools import permutations\n",
    "from itertools import combinations\n",
    "from itertools import combinations_with_replacement"
   ]
  },
  {
   "cell_type": "markdown",
   "metadata": {},
   "source": [
    "Optimizacón ejercicio 2 "
   ]
  },
  {
   "cell_type": "code",
   "execution_count": 41,
   "metadata": {},
   "outputs": [
    {
     "name": "stdout",
     "output_type": "stream",
     "text": [
      " message: Optimization terminated successfully\n",
      " success: True\n",
      "  status: 0\n",
      "     fun: 0.19999999998923168\n",
      "       x: [-1.333e-01  2.667e-01  6.667e-01]\n",
      "     nit: 4\n",
      "     jac: [-2.667e-01  5.333e-01 -6.667e-01]\n",
      "    nfev: 16\n",
      "    njev: 4\n"
     ]
    }
   ],
   "source": [
    "p = [0, 0, 0]\n",
    "f = lambda x: x[0]**2 + x[1]**2 + x[2]**2 - 2*x[2] + 1\n",
    "restri = ({'type': 'eq', 'fun': lambda x: 2*x[0] - 4*x[1] + 5*x[2] - 2})\n",
    "resultado = sp.minimize(f, p, constraints=restri)\n",
    "print(resultado)"
   ]
  },
  {
   "cell_type": "markdown",
   "metadata": {},
   "source": [
    "Generales de probabilidad ejercicio 4 "
   ]
  },
  {
   "cell_type": "code",
   "execution_count": 42,
   "metadata": {},
   "outputs": [
    {
     "name": "stdout",
     "output_type": "stream",
     "text": [
      "1.4549552156187023e-157\n"
     ]
    },
    {
     "data": {
      "image/png": "[encoded data removed]",
      "text/plain": [
       "<Figure size 640x480 with 1 Axes>"
      ]
     },
     "metadata": {},
     "output_type": "display_data"
    }
   ],
   "source": [
    "probabilidad = 1\n",
    "probabilidades = []\n",
    "\n",
    "for i in range(365):\n",
    "    probabilidad *= (365 - i) / 365\n",
    "    probabilidades.append(probabilidad)\n",
    "\n",
    "print(probabilidad)\n",
    "\n",
    "n = range(81)\n",
    "plt.scatter(n, probabilidades[:81], color=\"y\")\n",
    "\n",
    "\n",
    "plt.xlabel(\"Días\")\n",
    "plt.ylabel(\"Probabilidad acumulativa\")\n",
    "plt.title(\"Probabilidad acumulativa de no coincidencias en cumpleaños\")\n",
    "plt.show()"
   ]
  },
  {
   "cell_type": "markdown",
   "metadata": {},
   "source": [
    "Distribuciones continuas de probabilidad ejercicio 1 "
   ]
  },
  {
   "cell_type": "code",
   "execution_count": 43,
   "metadata": {},
   "outputs": [
    {
     "name": "stdout",
     "output_type": "stream",
     "text": [
      "Integral sobre todo el espacio: 1.00000000000000\n",
      "Distribuciones marginales de g y h:  0.666666666666667*x + 0.666666666666667 1.33333333333333*y + 0.333333333333333\n",
      "E_x:  0.555555555555556\n",
      "E_y 0.611111111111111\n",
      "Covarianza por el método uno:  -0.00617283950617281\n",
      "Covarianza por el método dos :  -0.00617283950617284\n",
      "x e y son variables independientes debido a que la covarianza es muy cercana a cero.\n"
     ]
    }
   ],
   "source": [
    "x = sym.symbols('x')\n",
    "y = sym.symbols('y')\n",
    "\n",
    "def Func(x, y):\n",
    "    return (2/3) * (x + 2*y)\n",
    "\n",
    "f1 = Func(x, y)\n",
    "\n",
    "#a \n",
    "a = sym.integrate(sym.integrate(f1, (x, 0, 1)), (y, 0, 1))\n",
    "print(\"Integral sobre todo el espacio:\", a)\n",
    "\n",
    "#b \n",
    "g = sym.integrate(f1, (y, 0, 1))\n",
    "h = sym.integrate(f1, (x, 0, 1))\n",
    "print(\"Distribuciones marginales de g y h: \", g, h)\n",
    "\n",
    "#c \n",
    "Ex=sym.integrate(g*x,(x,0,1))\n",
    "print (\"E_x: \", Ex)\n",
    "\n",
    "#d \n",
    "Ey= sym.integrate(h * y, (y, 0, 1))\n",
    "print(\"E_y\", Ey)\n",
    "#e \n",
    "Exy= sym.integrate(f1 * x * y, (x, 0, 1), (y, 0, 1))\n",
    "cov1 = Exy-Ex*Ey\n",
    "print(\"Covarianza por el método uno: \", cov1)\n",
    "\n",
    "#f \n",
    "cov2= sym.integrate((x-Ex)*(y-Ey)*f1,(x,0,1),(y,0,1))\n",
    "print (\"Covarianza por el método dos : \", cov2)\n",
    "\n",
    "#g \n",
    "print(\"x e y son variables independientes debido a que la covarianza es muy cercana a cero.\")\n"
   ]
  },
  {
   "cell_type": "markdown",
   "metadata": {},
   "source": [
    "Hidden Markov models ejercicio 1 "
   ]
  },
  {
   "cell_type": "code",
   "execution_count": 44,
   "metadata": {},
   "outputs": [
    {
     "name": "stdout",
     "output_type": "stream",
     "text": [
      "[[1 1 1 1 1 1 1 1]]\n",
      "Unexpected exception formatting exception. Falling back to standard exception\n"
     ]
    },
    {
     "name": "stderr",
     "output_type": "stream",
     "text": [
      "Traceback (most recent call last):\n",
      "  File \"C:\\Users\\laura\\AppData\\Roaming\\Python\\Python311\\site-packages\\IPython\\core\\interactiveshell.py\", line 3508, in run_code\n",
      "    exec(code_obj, self.user_global_ns, self.user_ns)\n",
      "  File \"C:\\Users\\laura\\AppData\\Local\\Temp\\ipykernel_17164\\1385211944.py\", line 56, in <module>\n",
      "    ObsStates = GetStates([0,1,2],8)\n",
      "                ^^^^^^^^^^^^^^^^^^^^\n",
      "  File \"C:\\Users\\laura\\AppData\\Local\\Temp\\ipykernel_17164\\1385211944.py\", line -1, in GetStates\n",
      "KeyboardInterrupt\n",
      "\n",
      "During handling of the above exception, another exception occurred:\n",
      "\n",
      "Traceback (most recent call last):\n",
      "  File \"C:\\Users\\laura\\AppData\\Roaming\\Python\\Python311\\site-packages\\IPython\\core\\interactiveshell.py\", line 2105, in showtraceback\n",
      "    stb = self.InteractiveTB.structured_traceback(\n",
      "          ^^^^^^^^^^^^^^^^^^^^^^^^^^^^^^^^^^^^^^^^\n",
      "  File \"C:\\Users\\laura\\AppData\\Roaming\\Python\\Python311\\site-packages\\IPython\\core\\ultratb.py\", line 1428, in structured_traceback\n",
      "    return FormattedTB.structured_traceback(\n",
      "           ^^^^^^^^^^^^^^^^^^^^^^^^^^^^^^^^^\n",
      "  File \"C:\\Users\\laura\\AppData\\Roaming\\Python\\Python311\\site-packages\\IPython\\core\\ultratb.py\", line 1319, in structured_traceback\n",
      "    return VerboseTB.structured_traceback(\n",
      "           ^^^^^^^^^^^^^^^^^^^^^^^^^^^^^^^\n",
      "  File \"C:\\Users\\laura\\AppData\\Roaming\\Python\\Python311\\site-packages\\IPython\\core\\ultratb.py\", line 1172, in structured_traceback\n",
      "    formatted_exception = self.format_exception_as_a_whole(etype, evalue, etb, number_of_lines_of_context,\n",
      "                          ^^^^^^^^^^^^^^^^^^^^^^^^^^^^^^^^^^^^^^^^^^^^^^^^^^^^^^^^^^^^^^^^^^^^^^^^^^^^^^^^\n",
      "  File \"C:\\Users\\laura\\AppData\\Roaming\\Python\\Python311\\site-packages\\IPython\\core\\ultratb.py\", line 1087, in format_exception_as_a_whole\n",
      "    frames.append(self.format_record(record))\n",
      "                  ^^^^^^^^^^^^^^^^^^^^^^^^^^\n",
      "  File \"C:\\Users\\laura\\AppData\\Roaming\\Python\\Python311\\site-packages\\IPython\\core\\ultratb.py\", line 969, in format_record\n",
      "    frame_info.lines, Colors, self.has_colors, lvals\n",
      "    ^^^^^^^^^^^^^^^^\n",
      "  File \"C:\\Users\\laura\\AppData\\Roaming\\Python\\Python311\\site-packages\\IPython\\core\\ultratb.py\", line 792, in lines\n",
      "    return self._sd.lines\n",
      "           ^^^^^^^^^^^^^^\n",
      "  File \"C:\\Users\\laura\\AppData\\Roaming\\Python\\Python311\\site-packages\\stack_data\\utils.py\", line 144, in cached_property_wrapper\n",
      "    value = obj.__dict__[self.func.__name__] = self.func(obj)\n",
      "                                               ^^^^^^^^^^^^^^\n",
      "  File \"C:\\Users\\laura\\AppData\\Roaming\\Python\\Python311\\site-packages\\stack_data\\core.py\", line 734, in lines\n",
      "    pieces = self.included_pieces\n",
      "             ^^^^^^^^^^^^^^^^^^^^\n",
      "  File \"C:\\Users\\laura\\AppData\\Roaming\\Python\\Python311\\site-packages\\stack_data\\utils.py\", line 144, in cached_property_wrapper\n",
      "    value = obj.__dict__[self.func.__name__] = self.func(obj)\n",
      "                                               ^^^^^^^^^^^^^^\n",
      "  File \"C:\\Users\\laura\\AppData\\Roaming\\Python\\Python311\\site-packages\\stack_data\\core.py\", line 681, in included_pieces\n",
      "    pos = scope_pieces.index(self.executing_piece)\n",
      "                             ^^^^^^^^^^^^^^^^^^^^\n",
      "  File \"C:\\Users\\laura\\AppData\\Roaming\\Python\\Python311\\site-packages\\stack_data\\utils.py\", line 144, in cached_property_wrapper\n",
      "    value = obj.__dict__[self.func.__name__] = self.func(obj)\n",
      "                                               ^^^^^^^^^^^^^^\n",
      "  File \"C:\\Users\\laura\\AppData\\Roaming\\Python\\Python311\\site-packages\\stack_data\\core.py\", line 660, in executing_piece\n",
      "    return only(\n",
      "           ^^^^^\n",
      "  File \"C:\\Users\\laura\\AppData\\Roaming\\Python\\Python311\\site-packages\\executing\\executing.py\", line 190, in only\n",
      "    raise NotOneValueFound('Expected one value, found 0')\n",
      "executing.executing.NotOneValueFound: Expected one value, found 0\n"
     ]
    }
   ],
   "source": [
    "States = np.array([0,1]) \n",
    "Prior =  np.array([0.2,0.8])\n",
    "\n",
    "T = np.array([[0.8,0.2],[0.2,0.8]])\n",
    "\n",
    "E = np.array([[0.5,0.9],[0.5,0.9]])\n",
    "\n",
    "\n",
    "DictH = {0:'justa',1:'biast'}\n",
    "DictO = {0:'cara',1:'sello'} \n",
    "\n",
    "\n",
    "Obs = np.array([1,0,0,0,1,0,1,0])\n",
    "\n",
    "def GetStates(States,N):\n",
    "    \n",
    "    CStates = list( combinations_with_replacement(States,N) )\n",
    "\n",
    "    \n",
    "    Permu = []\n",
    "    \n",
    "    for it in CStates:\n",
    "        p = list(permutations(it,N))\n",
    "\n",
    "        for i in p:\n",
    "            if i not in Permu:\n",
    "                Permu.append(i)\n",
    "                \n",
    "    return np.array(Permu)\n",
    "HiddenStates = GetStates(States,8)\n",
    "\n",
    "def GetProb(T,E,Obs,State,Prior):\n",
    "    \n",
    "    n = len(Obs)\n",
    "    p = 1.\n",
    "    \n",
    "    p *= Prior[State[0]]\n",
    "    \n",
    "\n",
    "    for i in range(n-1):\n",
    "        p *= T[ State[i+1], State[i]  ]\n",
    "        \n",
    "    for i in range(n):\n",
    "        p *= E[ Obs[i], State[i] ]\n",
    "        \n",
    "    return p\n",
    "P = np.zeros(HiddenStates.shape[0], dtype=np.float64)\n",
    "\n",
    "for i in range(P.shape[0]):\n",
    "    P[i] = GetProb(T,E,Obs,HiddenStates[i],Prior)\n",
    "    \n",
    "valor=np.amax(P)\n",
    "mayor_probabilidad=np.where(P==valor)\n",
    "print(HiddenStates[mayor_probabilidad[0]])\n",
    "\n",
    "ObsStates = GetStates([0,1,2],8)\n",
    "\n",
    "[(0, 0, 0), (0, 0, 1), (0, 0, 2), (0, 1, 1), (0, 1, 2), (0, 2, 2), (1, 1, 1), (1, 1, 2), (1, 2, 2), (2, 2, 2)]\n",
    "Nobs = ObsStates.shape[0]\n",
    "\n",
    "PObs = np.zeros(Nobs)\n",
    "\n",
    "for j in range(Nobs):\n",
    "    \n",
    "    dim = HiddenStates.shape[0]\n",
    "    P = np.zeros(dim)\n",
    "    \n",
    "    for i in range(dim):\n",
    "        P[i] = GetProb(T,E,ObsStates[j],HiddenStates[i],Prior)\n",
    "        \n",
    "    PObs[j] = np.sum(P)\n",
    "\n",
    "print(np.sum(PObs))\n"
   ]
  },
  {
   "cell_type": "markdown",
   "metadata": {},
   "source": [
    "Mínimos cuadrados 1b "
   ]
  },
  {
   "cell_type": "code",
   "execution_count": null,
   "metadata": {},
   "outputs": [
    {
     "name": "stdout",
     "output_type": "stream",
     "text": [
      "Punto de mínimo: [1.46464646 0.45454545]\n"
     ]
    },
    {
     "data": {
      "image/png": "[encoded data removed]",
      "text/plain": [
       "<Figure size 640x480 with 1 Axes>"
      ]
     },
     "metadata": {},
     "output_type": "display_data"
    }
   ],
   "source": [
    "lineas =np.array([[2,-1],[1,2],[1,1]])\n",
    "y=np.array([2,1,4])\n",
    "tm=np.linspace(0,5,100)\n",
    "\n",
    "rango = np.linspace(-5, 5, 100)\n",
    "v_2 = np.zeros(2)\n",
    "\n",
    "def recta1(tm):\n",
    "  return 2*tm-2\n",
    "def recta2(tm):\n",
    "  return (1-tm)/2\n",
    "def recta3(tm):\n",
    "  return 4-tm\n",
    "\n",
    "resultado = np.zeros((1, 3))  \n",
    "normas = float('inf')\n",
    "ubp = np.zeros(2)\n",
    "normas2 = np.zeros(10000)\n",
    "\n",
    "\n",
    "for i in range(len(rango)):\n",
    "    for j in range(len(rango)):\n",
    "        v_2[0], v_2[1] = rango[i], rango[j]\n",
    "        z1 = lineas @ v_2 - y\n",
    "        actual = np.linalg.norm(z1)\n",
    "\n",
    "        if actual < normas:\n",
    "            normas = actual\n",
    "            ubp[0], ubp[1] = rango[i], rango[j]\n",
    "\n",
    "        resultado = np.append(resultado, [z1], axis=0)\n",
    "\n",
    "\n",
    "for i in range(10000):\n",
    "    normas2[i] = np.linalg.norm(resultado[i])\n",
    "\n",
    "\n",
    "print(\"Punto de mínimo:\", ubp)\n",
    "\n",
    "\n",
    "plt.plot(tm, recta1(tm))\n",
    "plt.plot(tm, recta2(tm))\n",
    "plt.plot(tm, recta3(tm))\n",
    "plt.scatter(ubp[0], ubp[1], color=\"r\")\n",
    "plt.show()\n"
   ]
  }
 ],
 "metadata": {
  "kernelspec": {
   "display_name": "Python 3",
   "language": "python",
   "name": "python3"
  },
  "language_info": {
   "codemirror_mode": {
    "name": "ipython",
    "version": 3
   },
   "file_extension": ".py",
   "mimetype": "text/x-python",
   "name": "python",
   "nbconvert_exporter": "python",
   "pygments_lexer": "ipython3",
   "version": "3.11.4"
  }
 },
 "nbformat": 4,
 "nbformat_minor": 2
}
