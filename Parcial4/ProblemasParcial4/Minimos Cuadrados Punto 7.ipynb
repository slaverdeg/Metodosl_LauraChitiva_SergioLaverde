{
 "cells": [
  {
   "cell_type": "code",
   "execution_count": 87,
   "metadata": {},
   "outputs": [],
   "source": [
    "import numpy as np\n",
    "import matplotlib.pyplot as plt"
   ]
  },
  {
   "cell_type": "markdown",
   "metadata": {},
   "source": [
    "# 7."
   ]
  },
  {
   "cell_type": "code",
   "execution_count": 88,
   "metadata": {},
   "outputs": [
    {
     "data": {
      "text/plain": [
       "array([[ 3.,  1., -1.],\n",
       "       [ 1.,  2.,  0.],\n",
       "       [ 0.,  1.,  2.],\n",
       "       [ 1.,  1., -1.]])"
      ]
     },
     "execution_count": 88,
     "metadata": {},
     "output_type": "execute_result"
    }
   ],
   "source": [
    "u1 = np.array([3.,1.,0.,1.,])\n",
    "u2 = np.array([1.,2.,1.,1.,])\n",
    "u3 = np.array([-1.,0.,2.,-1.,])\n",
    "b = np.array([-3.,-3.,8.,9.])\n",
    "\n",
    "A = np.array([u1,u2,u3]).T\n",
    "A"
   ]
  },
  {
   "cell_type": "markdown",
   "metadata": {},
   "source": [
    "a)"
   ]
  },
  {
   "cell_type": "code",
   "execution_count": 89,
   "metadata": {},
   "outputs": [
    {
     "data": {
      "text/plain": [
       "array([-2.00000000e+00,  3.00000000e+00,  4.00000000e+00,  1.11022302e-16])"
      ]
     },
     "execution_count": 89,
     "metadata": {},
     "output_type": "execute_result"
    }
   ],
   "source": [
    "AT = np.dot(A.T,A)\n",
    "bT = np.dot(A.T,b)\n",
    "xsol = np.linalg.solve(AT,bT)\n",
    "np.dot(A,xsol)"
   ]
  },
  {
   "cell_type": "markdown",
   "metadata": {},
   "source": [
    "b)"
   ]
  },
  {
   "cell_type": "code",
   "execution_count": 90,
   "metadata": {},
   "outputs": [
    {
     "data": {
      "text/plain": [
       "array([[ 0.90453403,  0.30151134,  0.        ,  0.30151134],\n",
       "       [-0.32961713,  0.75341057,  0.51796977,  0.2354408 ],\n",
       "       [ 0.25633581, -0.26982716,  0.78249877, -0.49918025]])"
      ]
     },
     "execution_count": 90,
     "metadata": {},
     "output_type": "execute_result"
    }
   ],
   "source": [
    "def Gram_Schmidt (W):\n",
    "\n",
    "    P = np.zeros(shape=np.shape(W))\n",
    "    P[0] = W[0]/np.linalg.norm(W[0])\n",
    "\n",
    "    for i in range(1,np.shape(W)[0]):\n",
    "        sum = np.zeros(shape=np.shape(W)[1])\n",
    "        for j in range(0,i):\n",
    "            sum += (np.dot(W[i],P[j])/np.dot(P[j],P[j]))*P[j]\n",
    "        P[i] = W[i] - sum\n",
    "        P[i] = P[i]/np.linalg.norm(P[i])\n",
    "    return P\n",
    "\n",
    "O = Gram_Schmidt(A.T)\n",
    "O"
   ]
  },
  {
   "cell_type": "code",
   "execution_count": 91,
   "metadata": {},
   "outputs": [
    {
     "data": {
      "text/plain": [
       "array([-2.00000000e+00,  3.00000000e+00,  4.00000000e+00,  5.55111512e-16])"
      ]
     },
     "execution_count": 91,
     "metadata": {},
     "output_type": "execute_result"
    }
   ],
   "source": [
    "P = np.zeros(shape=np.shape(O)[1])\n",
    "for i in O:\n",
    "    P += np.dot(b,i)*i\n",
    "P"
   ]
  }
 ],
 "metadata": {
  "kernelspec": {
   "display_name": "base",
   "language": "python",
   "name": "python3"
  },
  "language_info": {
   "codemirror_mode": {
    "name": "ipython",
    "version": 3
   },
   "file_extension": ".py",
   "mimetype": "text/x-python",
   "name": "python",
   "nbconvert_exporter": "python",
   "pygments_lexer": "ipython3",
   "version": "3.9.7"
  }
 },
 "nbformat": 4,
 "nbformat_minor": 2
}
