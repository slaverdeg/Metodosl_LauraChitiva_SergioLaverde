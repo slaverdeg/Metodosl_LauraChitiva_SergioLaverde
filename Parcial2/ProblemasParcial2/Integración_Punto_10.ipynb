{
 "cells": [
  {
   "cell_type": "code",
   "execution_count": 13,
   "metadata": {},
   "outputs": [],
   "source": [
    "import numpy as np\n",
    "import matplotlib.pyplot as plt\n",
    "import sympy as sym\n",
    "from scipy import integrate\n",
    "sym.init_printing(use_unicode=True)"
   ]
  },
  {
   "cell_type": "code",
   "execution_count": 14,
   "metadata": {},
   "outputs": [
    {
     "name": "stdout",
     "output_type": "stream",
     "text": [
      "-0.0375*h**5\n",
      "-0.0375*h**5\n",
      "\n",
      "El error asosciado a la regla de Simpson 3/8 si está dada por la expresión propuesta.\n"
     ]
    }
   ],
   "source": [
    "h = sym.Symbol('h',real=True)\n",
    "\n",
    "def function(x):\n",
    "    f = x*(x-h)*(x-2*h)*(x-3*h)\n",
    "    return f\n",
    "\n",
    "a = 0\n",
    "b = 3*h\n",
    "Roots, Weights = np.polynomial.legendre.leggauss(6)\n",
    "t = 0.5*( (b-a)*Roots + a + b )\n",
    "Integral = 0.5*(b-a)*np.sum(Weights*function(t))\n",
    "\n",
    "def GetError():\n",
    "    return Integral/(np.math.factorial(4))\n",
    "\n",
    "real = -(3/80)*h**5\n",
    "print(GetError())\n",
    "print(real)\n",
    "\n",
    "print('\\nEl error asosciado a la regla de Simpson 3/8 si está dada por la expresión propuesta.')"
   ]
  }
 ],
 "metadata": {
  "kernelspec": {
   "display_name": "base",
   "language": "python",
   "name": "python3"
  },
  "language_info": {
   "codemirror_mode": {
    "name": "ipython",
    "version": 3
   },
   "file_extension": ".py",
   "mimetype": "text/x-python",
   "name": "python",
   "nbconvert_exporter": "python",
   "pygments_lexer": "ipython3",
   "version": "3.9.7"
  },
  "orig_nbformat": 4
 },
 "nbformat": 4,
 "nbformat_minor": 2
}
