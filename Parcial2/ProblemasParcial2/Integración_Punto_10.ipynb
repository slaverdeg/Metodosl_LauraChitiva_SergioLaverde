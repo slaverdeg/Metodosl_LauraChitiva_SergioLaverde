{
 "cells": [
  {
   "cell_type": "code",
   "execution_count": 13,
   "metadata": {},
   "outputs": [],
   "source": [
    "import numpy as np\n",
    "import matplotlib.pyplot as plt\n",
    "import sympy as sym\n",
    "from scipy import integrate\n",
    "sym.init_printing(use_unicode=True)"
   ]
  },
  {
   "cell_type": "code",
   "execution_count": 14,
   "metadata": {},
   "outputs": [
    {
     "data": {
      "text/plain": [
       "'\\nclass Simpson_tres_octavos_compuesto(Integrator):\\n    \\n    def __init__(self,x,f):\\n        Integrator.__init__(self,x,f)\\n        \\n    def GetIntegral(self):\\n        \\n        self.Integral = 0.\\n        self.Integral += self.y[0] + self.y[-1]\\n\\n        for i in range(len(self.x[1:-1])):\\n            \\n            if i%3 == 0:\\n                self.Integral += 2*self.y[i+1]\\n            \\n            else:\\n                self.Integral += 3*self.y[i+1]\\n          \\n        return self.Integral*self.h*3/8\\n    \\n    def GetDerivative(self):\\n        \\n        d = self.f(self.x + 2*self.h) - 4*self.f(self.x + self.h) + 6*self.f(self.x) - 4*self.f(self.x - self.h) + self.f(self.x - 2*self.h)\\n        d /= self.h**4\\n        \\n        \\n        return d\\n    \\n    def GetError(self):\\n        \\n        d = self.GetDerivative()\\n        max_ = np.max(np.abs(d))\\n        \\n        self.error = (self.x[-1]-self.x[0])*self.h**4*max_/180\\n        \\n        return self.error'"
      ]
     },
     "execution_count": 14,
     "metadata": {},
     "output_type": "execute_result"
    }
   ],
   "source": [
    "#x = sym.Symbol('x',real=True)\n",
    "\n",
    "class Simpson_tres_octavos_Simple:\n",
    "\n",
    "    def __init__(self,a,b,f):\n",
    "        self.a = a\n",
    "        self.b = b\n",
    "        self.f = f\n",
    "        self.h = (b-a)/3\n",
    "        self.x = np.linspace(a,b,100)\n",
    "        self.h_ = self.x[1] - self.x[0]\n",
    "\n",
    "    def GetIntegral(self):\n",
    "\n",
    "        self.Integral = (self.f(self.a) + 3*self.f((2*self.a + self.b)/3) + self.f((self.a + 2*self.b)/3) + self.f(self.b))*3*self.h/8\n",
    "\n",
    "        return self.Integral\n",
    "\n",
    "    def GetDerivative_4(self):\n",
    "        \n",
    "        d = self.f(self.x + 2*self.h) - 4*self.f(self.x + self.h) + 6*self.f(self.x) - 4*self.f(self.x - self.h) + self.f(self.x - 2*self.h)\n",
    "        d /= self.h**4\n",
    "        return d\n",
    "    \n",
    "    def GetError(self):\n",
    "        \n",
    "        d4 = self.GetDerivative_4()\n",
    "        self.error = (self.h**5)*d4*3*(-1)/80\n",
    "        sum = 0\n",
    "        for i in self.error:\n",
    "            sum += i\n",
    "\n",
    "        return sum/len(self.error)\n",
    "\n",
    "\"\"\"\n",
    "class Simpson_tres_octavos_compuesto(Integrator):\n",
    "    \n",
    "    def __init__(self,x,f):\n",
    "        Integrator.__init__(self,x,f)\n",
    "        \n",
    "    def GetIntegral(self):\n",
    "        \n",
    "        self.Integral = 0.\n",
    "        self.Integral += self.y[0] + self.y[-1]\n",
    "\n",
    "        for i in range(len(self.x[1:-1])):\n",
    "            \n",
    "            if i%3 == 0:\n",
    "                self.Integral += 2*self.y[i+1]\n",
    "            \n",
    "            else:\n",
    "                self.Integral += 3*self.y[i+1]\n",
    "          \n",
    "        return self.Integral*self.h*3/8\n",
    "    \n",
    "    def GetDerivative(self):\n",
    "        \n",
    "        d = self.f(self.x + 2*self.h) - 4*self.f(self.x + self.h) + 6*self.f(self.x) - 4*self.f(self.x - self.h) + self.f(self.x - 2*self.h)\n",
    "        d /= self.h**4\n",
    "        \n",
    "        \n",
    "        return d\n",
    "    \n",
    "    def GetError(self):\n",
    "        \n",
    "        d = self.GetDerivative()\n",
    "        max_ = np.max(np.abs(d))\n",
    "        \n",
    "        self.error = (self.x[-1]-self.x[0])*self.h**4*max_/180\n",
    "        \n",
    "        return self.error\"\"\""
   ]
  },
  {
   "cell_type": "code",
   "execution_count": 15,
   "metadata": {},
   "outputs": [
    {
     "name": "stdout",
     "output_type": "stream",
     "text": [
      "0.660917542520363\n",
      "-0.0008955150169767795\n"
     ]
    }
   ],
   "source": [
    "#x = np.linspace(0,np.pi/2,4)\n",
    "a = 0\n",
    "b = 0.5*np.pi\n",
    "f = lambda x: np.sin(x)\n",
    "Integrador = Simpson_tres_octavos_Simple(a,b,f)\n",
    "print(Integrador.GetIntegral())\n",
    "print(Integrador.GetError())\n"
   ]
  }
 ],
 "metadata": {
  "kernelspec": {
   "display_name": "base",
   "language": "python",
   "name": "python3"
  },
  "language_info": {
   "codemirror_mode": {
    "name": "ipython",
    "version": 3
   },
   "file_extension": ".py",
   "mimetype": "text/x-python",
   "name": "python",
   "nbconvert_exporter": "python",
   "pygments_lexer": "ipython3",
   "version": "3.9.7"
  },
  "orig_nbformat": 4
 },
 "nbformat": 4,
 "nbformat_minor": 2
}
