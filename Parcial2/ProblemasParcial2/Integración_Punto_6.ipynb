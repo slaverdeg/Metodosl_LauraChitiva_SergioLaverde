{
 "cells": [
  {
   "cell_type": "code",
   "execution_count": 13,
   "metadata": {},
   "outputs": [
    {
     "data": {
      "text/html": [
       "<style>.container { width:100% !important; }</style>"
      ],
      "text/plain": [
       "<IPython.core.display.HTML object>"
      ]
     },
     "metadata": {},
     "output_type": "display_data"
    }
   ],
   "source": [
    "from IPython.display import display, HTML\n",
    "display(HTML(\"<style>.container { width:100% !important; }</style>\"))\n",
    "import numpy as np\n",
    "import matplotlib.pyplot as plt\n",
    "from scipy import integrate"
   ]
  },
  {
   "cell_type": "code",
   "execution_count": 14,
   "metadata": {},
   "outputs": [],
   "source": [
    "class Integrator:\n",
    "    \n",
    "    def __init__(self,x,f):\n",
    "        \n",
    "        self.x = x\n",
    "        self.h = self.x[1] - self.x[0]\n",
    "        self.y = f(self.x)\n",
    "        self.f = f\n",
    "        \n",
    "        self.Integral = 0.\n",
    "\n",
    "class trapecio(Integrator):\n",
    "    def __init__(self,x,f):\n",
    "        Integrator.__init__(self,x,f)\n",
    "\n",
    "    def GetIntegral(self):\n",
    "        \n",
    "        self.Integral += 0.5*(self.y[0]+self.y[-1])\n",
    "        \n",
    "        #self.Integral += np.sum( self.y[1:-1] )\n",
    "        \n",
    "        for i in range(1,self.y.shape[0]-1):\n",
    "            self.Integral += self.y[i]\n",
    "        \n",
    "        self.Integral *= self.h\n",
    "        \n",
    "        return self.Integral\n",
    "    \n",
    "class Simpson_un_tercio(Integrator):\n",
    "    \n",
    "    def __init__(self,x,f):\n",
    "        Integrator.__init__(self,x,f)\n",
    "        \n",
    "    def GetIntegral(self):\n",
    "        \n",
    "        self.Integral = 0.\n",
    "        \n",
    "        self.Integral += self.y[0] + self.y[-1]\n",
    "        \n",
    "        for i in range( len(self.y[1:-2]) ):\n",
    "            \n",
    "            if i%2 == 0:\n",
    "                self.Integral += 4*self.y[i+1]\n",
    "            else:\n",
    "                self.Integral += 2*self.y[i+1]\n",
    "          \n",
    "        return self.Integral*self.h/3"
   ]
  },
  {
   "cell_type": "code",
   "execution_count": 15,
   "metadata": {},
   "outputs": [
    {
     "name": "stdout",
     "output_type": "stream",
     "text": [
      "0.10744933499997265\n",
      "0.2743080741039679\n"
     ]
    }
   ],
   "source": [
    "a = 0.01\n",
    "R = 0.5\n",
    "x = np.linspace(-a,a,100)\n",
    "exact = np.pi*(R-((R**2)-(a**2))**(1/2))\n",
    "\n",
    "def function(x,a=a,R=R):\n",
    "    f = (((a**2)-(x**2))**(1/2))/(R+x)\n",
    "    return f\n",
    "\n",
    "Integral_Trapecio = trapecio(x,function).GetIntegral()\n",
    "Integral_Simpson = Simpson_un_tercio(x,function).GetIntegral()\n",
    "\n",
    "Error_T = abs(Integral_Trapecio - exact)*100/exact\n",
    "Error_S = abs(Integral_Simpson - exact)*100/exact\n",
    "\n",
    "#print(Integral_Trapecio)\n",
    "#print(Integral_Simpson)\n",
    "#print(exact)\n",
    "print(Error_T)\n",
    "print(Error_S)"
   ]
  }
 ],
 "metadata": {
  "kernelspec": {
   "display_name": "base",
   "language": "python",
   "name": "python3"
  },
  "language_info": {
   "codemirror_mode": {
    "name": "ipython",
    "version": 3
   },
   "file_extension": ".py",
   "mimetype": "text/x-python",
   "name": "python",
   "nbconvert_exporter": "python",
   "pygments_lexer": "ipython3",
   "version": "3.9.7"
  },
  "orig_nbformat": 4
 },
 "nbformat": 4,
 "nbformat_minor": 2
}
