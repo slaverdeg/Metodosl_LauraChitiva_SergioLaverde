{
 "cells": [
  {
   "cell_type": "code",
   "execution_count": 47,
   "metadata": {},
   "outputs": [],
   "source": [
    "import numpy as np\n",
    "import matplotlib.pyplot as plt\n",
    "import sympy as sym\n",
    "from scipy import integrate\n",
    "sym.init_printing(use_unicode=True)"
   ]
  },
  {
   "cell_type": "markdown",
   "metadata": {},
   "source": [
    "a."
   ]
  },
  {
   "cell_type": "code",
   "execution_count": 48,
   "metadata": {},
   "outputs": [
    {
     "name": "stdout",
     "output_type": "stream",
     "text": [
      "[-5.38748089 -4.60368245 -3.94476404 -3.34785457 -2.78880606 -2.254974\n",
      " -1.73853771 -1.23407622 -0.73747373 -0.24534071  0.24534071  0.73747373\n",
      "  1.23407622  1.73853771  2.254974    2.78880606  3.34785457  3.94476404\n",
      "  4.60368245  5.38748089]\n",
      "[2.22939365e-13 4.39934099e-10 1.08606937e-07 7.80255648e-06\n",
      " 2.28338636e-04 3.24377334e-03 2.48105209e-02 1.09017206e-01\n",
      " 2.86675505e-01 4.62243670e-01 4.62243670e-01 2.86675505e-01\n",
      " 1.09017206e-01 2.48105209e-02 3.24377334e-03 2.28338636e-04\n",
      " 7.80255648e-06 1.08606937e-07 4.39934099e-10 2.22939365e-13]\n"
     ]
    }
   ],
   "source": [
    "x = sym.Symbol('x',real=True)\n",
    "y = sym.Symbol('y',real=True)\n",
    "\n",
    "def GetNewton(f,df,xn,itmax=10000,precision=1e-14):\n",
    "    \n",
    "    error = 1.\n",
    "    it = 0\n",
    "    \n",
    "    while error >= precision and it < itmax:\n",
    "        \n",
    "        try:\n",
    "            \n",
    "            xn1 = xn - f(xn)/df(xn)\n",
    "            \n",
    "            error = np.abs(f(xn)/df(xn))\n",
    "            \n",
    "        except ZeroDivisionError:\n",
    "            print('Zero Division')\n",
    "            \n",
    "        xn = xn1\n",
    "        it += 1\n",
    "        \n",
    "    if it == itmax:\n",
    "        return False\n",
    "    else:\n",
    "        return xn\n",
    "    \n",
    "def GetRoots(f,df,x,tolerancia = 10):\n",
    "    \n",
    "    Roots = np.array([])\n",
    "    \n",
    "    for i in x:\n",
    "        \n",
    "        root = GetNewton(f,df,i)\n",
    "\n",
    "        if  type(root)!=bool:\n",
    "            croot = np.round( root, tolerancia )\n",
    "            \n",
    "            if croot not in Roots:\n",
    "                Roots = np.append(Roots, croot)\n",
    "                \n",
    "    Roots.sort()\n",
    "    \n",
    "    return Roots\n",
    "\n",
    "def GetHermite(n,x):\n",
    "\n",
    "    if n==0:\n",
    "        poly = sym.Number(1)\n",
    "    elif n==1:\n",
    "        poly = 2*x\n",
    "    else:\n",
    "        poly = (2*x)*GetHermite(n-1,x)-(2*(n-1))*GetHermite(n-2,x)\n",
    "\n",
    "    return sym.expand(poly,x)\n",
    "\n",
    "def GetDHermite(n,x):\n",
    "    Pn = GetHermite(n,x)\n",
    "    return sym.diff(Pn,x,1)\n",
    "\n",
    "def GetAllRootsGHer(n):\n",
    "    \n",
    "    xn = np.linspace((-1)*((4*n)**(1/2)),(4*n)**(1/2),100)\n",
    "    \n",
    "    Hermite = []\n",
    "    DHermite = []\n",
    "    \n",
    "    for i in range(n+1):\n",
    "        Hermite.append(GetHermite(i,x))\n",
    "        DHermite.append(GetDHermite(i,x))\n",
    "    \n",
    "    poly = sym.lambdify([x],Hermite[n],'numpy')\n",
    "    Dpoly = sym.lambdify([x],DHermite[n],'numpy')\n",
    "    Roots = GetRoots(poly,Dpoly,xn)\n",
    "\n",
    "    if len(Roots) != n:\n",
    "        ValueError('El número de raíces debe ser igual al n del polinomio.')\n",
    "    \n",
    "    return Roots\n",
    "\n",
    "def GetWeightsGHer(n):\n",
    "\n",
    "    Roots = GetAllRootsGHer(n)\n",
    "\n",
    "    Hermite = []\n",
    "    \n",
    "    for i in range(n+1):\n",
    "        Hermite.append(GetHermite(i,x))\n",
    "    \n",
    "    poly = sym.lambdify([x],Hermite[n-1],'numpy')\n",
    "    Weights = ((2**(n-1))*(np.math.factorial(n))*(np.pi**(1/2)))/((n**2)*((poly(Roots)**2)))\n",
    "    \n",
    "    return Weights\n",
    "\n",
    "n = 20\n",
    "raices = GetAllRootsGHer(n)\n",
    "pesos = GetWeightsGHer(n)\n",
    "print(raices)\n",
    "print(pesos)\n"
   ]
  },
  {
   "cell_type": "markdown",
   "metadata": {},
   "source": [
    "b."
   ]
  },
  {
   "cell_type": "code",
   "execution_count": 49,
   "metadata": {},
   "outputs": [
    {
     "name": "stdout",
     "output_type": "stream",
     "text": [
      "(0.4231421876608171, 5.0481339624845845e-09)\n",
      "0.4231421876608168\n"
     ]
    }
   ],
   "source": [
    "def estado_del_oscilador_al_cuadrado(x,n=1):\n",
    "    f = (1/((2**n) * np.math.factorial(n)))*((1/np.pi)*(1/2))*4*(x**2)\n",
    "    return f\n",
    "\n",
    "def posicion(x):\n",
    "    p = abs((estado_del_oscilador_al_cuadrado(x)))*(x**2)\n",
    "    return p\n",
    "\n",
    "Roots, Weights = np.polynomial.hermite.hermgauss(6)\n",
    "I = np.sum(posicion(Roots)*Weights)\n",
    "\n",
    "f2 = lambda x: posicion(x)* np.exp(-x**2)\n",
    "exact = integrate.quad(f2,-np.inf,np.inf)\n",
    "print(exact)\n",
    "print(I)"
   ]
  }
 ],
 "metadata": {
  "kernelspec": {
   "display_name": "base",
   "language": "python",
   "name": "python3"
  },
  "language_info": {
   "codemirror_mode": {
    "name": "ipython",
    "version": 3
   },
   "file_extension": ".py",
   "mimetype": "text/x-python",
   "name": "python",
   "nbconvert_exporter": "python",
   "pygments_lexer": "ipython3",
   "version": "3.9.7"
  },
  "orig_nbformat": 4
 },
 "nbformat": 4,
 "nbformat_minor": 2
}
