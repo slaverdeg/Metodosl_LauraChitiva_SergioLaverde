{
 "cells": [
  {
   "cell_type": "code",
   "execution_count": 217,
   "metadata": {},
   "outputs": [
    {
     "name": "stdout",
     "output_type": "stream",
     "text": [
      "IPython console for SymPy 1.9 (Python 3.9.7-64-bit) (ground types: python)\n",
      "\n",
      "These commands were executed:\n",
      ">>> from __future__ import division\n",
      ">>> from sympy import *\n",
      ">>> x, y, z, t = symbols('x y z t')\n",
      ">>> k, m, n = symbols('k m n', integer=True)\n",
      ">>> f, g, h = symbols('f g h', cls=Function)\n",
      ">>> init_printing()\n",
      "\n",
      "Documentation can be found at https://docs.sympy.org/1.9/\n",
      "\n"
     ]
    }
   ],
   "source": [
    "#from IPython.display import display, HTML\n",
    "#display(HTML(\"<style>.container { width:100% !important; }</style>\"))\n",
    "#from IPython.display import clear_output\n",
    "#import time\n",
    "import numpy as np\n",
    "import matplotlib.pyplot as plt\n",
    "import sympy as sym\n",
    "from scipy import integrate\n",
    "from tqdm import tqdm\n",
    "sym.init_session(use_latex=True)"
   ]
  },
  {
   "cell_type": "markdown",
   "metadata": {},
   "source": [
    "# Parcial 3"
   ]
  },
  {
   "cell_type": "markdown",
   "metadata": {},
   "source": [
    "# 22."
   ]
  },
  {
   "cell_type": "code",
   "execution_count": 218,
   "metadata": {},
   "outputs": [],
   "source": [
    "def mulM(A,B,type=np.float64):\n",
    "\n",
    "    if len(np.shape(A)) == 1:\n",
    "        A = np.reshape(A,(1,len(A)))\n",
    "\n",
    "    if len(np.shape(B)) == 1:\n",
    "        B = np.reshape(B,(len(B),1))\n",
    "\n",
    "    AB = np.zeros(shape=(np.shape(A)[0],np.shape(B)[1]),dtype=type)\n",
    "\n",
    "    if np.shape(A)[1] == np.shape(B)[0]:\n",
    "        for i in range(np.shape(B)[1]):\n",
    "            for j in range(np.shape(A)[0]):\n",
    "                suma = 0\n",
    "                for k in range(np.shape(A)[1]):\n",
    "                    suma += A[j][k]*B[k][i]  \n",
    "                AB[j][i] = suma\n",
    "    else:\n",
    "        AB = None\n",
    "        print('Multiplicación no está definida')\n",
    "    \n",
    "    return AB\n",
    "\n",
    "def NewtonRaphson(z0,Fn,Jn,itmax=1000,error=1e-7):\n",
    "    \n",
    "    it = 0\n",
    "    d = 1.\n",
    "    \n",
    "    while d > error and it < itmax:\n",
    "        \n",
    "        # Vector actual\n",
    "        rc = z0\n",
    "\n",
    "        InvJ = np.linalg.inv(Jn(rc[0],rc[1]))\n",
    "        \n",
    "        z0 = rc - np.reshape(mulM(InvJ,Fn(rc[0],rc[1])),-1)\n",
    "        \n",
    "        d = np.max(np.abs(z0 - rc))\n",
    "        \n",
    "        it += 1\n",
    "    \n",
    "    return np.round(z0,7)\n",
    "\n",
    "def GetRoots(z0,Fn,Jn,tolerancia = 7):\n",
    "    \n",
    "    Roots = []\n",
    "    \n",
    "    for i in z0:\n",
    "        \n",
    "        root = NewtonRaphson(i,Fn,Jn)\n",
    "        #print(root)\n",
    "\n",
    "        if  type(root)!=bool:\n",
    "            croot = tuple(np.round(root,tolerancia))\n",
    "\n",
    "            if croot not in Roots:\n",
    "                Roots.append(croot)\n",
    "    Roots.sort()\n",
    "    \n",
    "    return Roots"
   ]
  },
  {
   "cell_type": "code",
   "execution_count": 219,
   "metadata": {},
   "outputs": [],
   "source": [
    "w = 114.6\n",
    "q = 3./10000.\n",
    "k = 9000000000.\n",
    "l = 5."
   ]
  },
  {
   "cell_type": "code",
   "execution_count": 220,
   "metadata": {},
   "outputs": [
    {
     "data": {
      "image/png": "[encoded data removed]",
      "text/latex": [
       "$\\displaystyle \\left[ \\left( -0.6003712, \\  0.0\\right), \\  \\left( -0.3677575, \\  -0.5616657\\right), \\  \\left( -0.3677575, \\  0.5616657\\right), \\  \\left( 0.3677575, \\  -0.5616657\\right), \\  \\left( 0.3677575, \\  0.5616657\\right), \\  \\left( 0.6003712, \\  0.0\\right)\\right]$"
      ],
      "text/plain": [
       "[(-0.6003712, -0.0), (-0.3677575, -0.5616657), (-0.3677575, 0.5616657), (0.367\n",
       "7575, -0.5616657), (0.3677575, 0.5616657), (0.6003712, -0.0)]"
      ]
     },
     "execution_count": 220,
     "metadata": {},
     "output_type": "execute_result"
    }
   ],
   "source": [
    "x , y = sym.symbols('x y', real=True)\n",
    "z = x + sym.I*y\n",
    "f = (z**6) + ((((2*np.sqrt(2)+1)*k*(q**2))/(4*(l**2)*w))**2)*(z**2) - ((((2*np.sqrt(2)+1)*k*(q**2))/(4*(l**2)*w))**2)\n",
    "#f = (z**6) + ((((1+2*np.sqrt(2))*27)/382)**2)*(z**2) - ((((1+2*np.sqrt(2))*27)/382)**2)\n",
    "F = sym.Matrix([sym.re(f),sym.im(f)])\n",
    "J = F.jacobian(sym.Matrix([x,y]))\n",
    "Fn = sym.lambdify([x,y],F,'numpy')\n",
    "Jn = sym.lambdify([x,y],J,'numpy')\n",
    "\n",
    "N = 6\n",
    "x = np.linspace(-1, 1, N)\n",
    "y = np.linspace(-1.5, 1.5, N)\n",
    "\n",
    "R = []\n",
    "for i in range(N):\n",
    "    for j in range(N):\n",
    "        r = np.array([x[i],y[j]])\n",
    "        R.append(r)\n",
    "\n",
    "Roots = GetRoots(R,Fn,Jn)\n",
    "Roots"
   ]
  },
  {
   "cell_type": "code",
   "execution_count": 221,
   "metadata": {},
   "outputs": [
    {
     "data": {
      "text/plain": [
       "Text(0, 0.5, 'Im')"
      ]
     },
     "execution_count": 221,
     "metadata": {},
     "output_type": "execute_result"
    }
   ],
   "source": [
    "for i in Roots:\n",
    "    plt.scatter(i[0],i[1])\n",
    "\n",
    "plt.axhline(0, color='black')\n",
    "plt.axvline(0, color='black')\n",
    "plt.xlabel('Re')\n",
    "plt.ylabel('Im')"
   ]
  },
  {
   "cell_type": "markdown",
   "metadata": {},
   "source": [
    "Como sabemos que:\n",
    "\n",
    "$\\displaystyle u = \\sin{\\left(\\theta \\right)}$\n",
    "\n",
    "$\\displaystyle 0 \\geq \\theta \\geq \\pi/2 , \\theta \\in \\mathbb{R}$\n",
    "\n",
    "Entonces solo consideraremos la raiz real positiva."
   ]
  },
  {
   "cell_type": "code",
   "execution_count": 222,
   "metadata": {},
   "outputs": [
    {
     "data": {
      "image/png": "[encoded data removed]",
      "text/latex": [
       "$\\displaystyle 36.9$"
      ],
      "text/plain": [
       "36.9"
      ]
     },
     "execution_count": 222,
     "metadata": {},
     "output_type": "execute_result"
    }
   ],
   "source": [
    "teta = (np.arcsin(Roots[-1][0])*180)/np.pi\n",
    "round(teta,2)"
   ]
  },
  {
   "cell_type": "markdown",
   "metadata": {},
   "source": [
    "$% \\usepackage{gensymb}$\n",
    "a) $\\displaystyle \\theta \\approx 37\\degree$"
   ]
  },
  {
   "cell_type": "markdown",
   "metadata": {},
   "source": [
    "b) $\\displaystyle \\left[ \\left( -0.6003712, \\  0.0\\right), \\  \\left( -0.3677575, \\  -0.5616657\\right), \\  \\left( -0.3677575, \\  0.5616657\\right), \\  \\left( 0.3677575, \\  -0.5616657\\right), \\  \\left( 0.3677575, \\  0.5616657\\right), \\  \\left( 0.6003712, \\  0.0\\right)\\right]$\n",
    "\n",
    "Donde el primer elemento de cada tupla es la parte real y la segunda es la parte imaginaria."
   ]
  },
  {
   "cell_type": "markdown",
   "metadata": {},
   "source": [
    "c) $\\displaystyle 0.6003712$"
   ]
  },
  {
   "cell_type": "markdown",
   "metadata": {},
   "source": [
    "# 23."
   ]
  },
  {
   "cell_type": "markdown",
   "metadata": {},
   "source": [
    "a)"
   ]
  },
  {
   "cell_type": "code",
   "execution_count": 223,
   "metadata": {},
   "outputs": [],
   "source": [
    "A = np.array([[0.2,0.1,1.,1.,0.],\n",
    "              [0.1,4.,-1.,1.,-1.],\n",
    "              [1.,-1.,60.,0.,-2.],\n",
    "              [1.,1.,0.,8.,4.],\n",
    "              [0.,-1.,-2.,4.,700.]])\n",
    "\n",
    "b = np.array([1.,2.,3.,4.,5.])"
   ]
  },
  {
   "cell_type": "markdown",
   "metadata": {},
   "source": [
    "b)"
   ]
  },
  {
   "cell_type": "code",
   "execution_count": 224,
   "metadata": {},
   "outputs": [],
   "source": [
    "def Metodo_gradiente_conjugado (A,b,x0,tolerancia=0.01):\n",
    "\n",
    "    r0 = np.matmul(A,x0) - b\n",
    "    p0 = -1.*r0\n",
    "    k = 0\n",
    "    error = 1\n",
    "\n",
    "    while error > tolerancia and k < 10:\n",
    "        \n",
    "        r0_ = r0\n",
    "        alpha = -1.*(np.dot(r0.T,p0))/np.dot(p0.T,np.matmul(A,p0))\n",
    "        #print(alpha)\n",
    "        x0 = x0 + np.dot(alpha,p0)\n",
    "        print(x0)\n",
    "        r0 = np.matmul(A,x0) - b\n",
    "        #print(r0)\n",
    "        beta = (np.dot(r0.T,np.matmul(A,p0)))/np.dot(p0.T,np.matmul(A,p0))\n",
    "        #print(beta)\n",
    "        p0 = -1.*r0 + np.dot(beta,p0)\n",
    "        #print(p0)\n",
    "        k += 1\n",
    "        error = np.max( np.abs(r0-r0_) )\n",
    "\n",
    "    return x0,k"
   ]
  },
  {
   "cell_type": "markdown",
   "metadata": {},
   "source": [
    "c)"
   ]
  },
  {
   "cell_type": "code",
   "execution_count": 225,
   "metadata": {},
   "outputs": [
    {
     "name": "stdout",
     "output_type": "stream",
     "text": [
      "[ 1.03512891  0.49063229 -0.02419691 -0.39851648  0.08587067]\n",
      "[ 1.03946078  0.49057465  0.05204942 -0.38296965  0.00942789]\n",
      "[1.17181318 0.53581274 0.0398494  0.28860847 0.00637383]\n",
      "[1.33629034 0.32965228 0.03343898 0.30019881 0.00599257]\n",
      "[ 7.85971308  0.42292641 -0.07359224 -0.54064302  0.01062616]\n",
      "[ 7.85971308  0.42292641 -0.07359224 -0.54064302  0.01062616]\n"
     ]
    },
    {
     "data": {
      "text/plain": [
       "array([ 7.85971308,  0.42292641, -0.07359224, -0.54064302,  0.01062616])"
      ]
     },
     "execution_count": 225,
     "metadata": {},
     "output_type": "execute_result"
    }
   ],
   "source": [
    "x,k = Metodo_gradiente_conjugado(A,b,np.array([1.,0.5,-1.,-0.5,0.]))\n",
    "x"
   ]
  },
  {
   "cell_type": "code",
   "execution_count": 226,
   "metadata": {},
   "outputs": [
    {
     "data": {
      "image/png": "[encoded data removed]",
      "text/latex": [
       "$\\displaystyle 6$"
      ],
      "text/plain": [
       "6"
      ]
     },
     "execution_count": 226,
     "metadata": {},
     "output_type": "execute_result"
    }
   ],
   "source": [
    "k"
   ]
  },
  {
   "cell_type": "markdown",
   "metadata": {},
   "source": [
    "Llega a la solución en 5 iteraciones porque la última no cuenta."
   ]
  },
  {
   "cell_type": "code",
   "execution_count": 227,
   "metadata": {},
   "outputs": [
    {
     "data": {
      "text/plain": [
       "array([ 7.85971308,  0.42292641, -0.07359224, -0.54064302,  0.01062616])"
      ]
     },
     "execution_count": 227,
     "metadata": {},
     "output_type": "execute_result"
    }
   ],
   "source": [
    "np.linalg.solve(A,b)"
   ]
  }
 ],
 "metadata": {
  "kernelspec": {
   "display_name": "base",
   "language": "python",
   "name": "python3"
  },
  "language_info": {
   "codemirror_mode": {
    "name": "ipython",
    "version": 3
   },
   "file_extension": ".py",
   "mimetype": "text/x-python",
   "name": "python",
   "nbconvert_exporter": "python",
   "pygments_lexer": "ipython3",
   "version": "3.9.7"
  }
 },
 "nbformat": 4,
 "nbformat_minor": 2
}
