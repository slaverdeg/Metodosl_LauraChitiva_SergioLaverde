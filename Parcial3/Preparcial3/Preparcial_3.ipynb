{
 "cells": [
  {
   "cell_type": "code",
   "execution_count": 1,
   "metadata": {},
   "outputs": [],
   "source": [
    "import sympy as sym\n",
    "import numpy as np\n",
    "import matplotlib.pyplot as plt"
   ]
  },
  {
   "cell_type": "code",
   "execution_count": 2,
   "metadata": {},
   "outputs": [],
   "source": [
    "def mulM(A,B,type=np.float64):\n",
    "\n",
    "    if len(np.shape(A)) == 1:\n",
    "        A = np.reshape(A,(1,len(A)))\n",
    "\n",
    "    if len(np.shape(B)) == 1:\n",
    "        B = np.reshape(B,(len(B),1))\n",
    "\n",
    "    AB = np.zeros(shape=(np.shape(A)[0],np.shape(B)[1]),dtype=type)\n",
    "\n",
    "    if np.shape(A)[1] == np.shape(B)[0]:\n",
    "        for i in range(np.shape(B)[1]):\n",
    "            for j in range(np.shape(A)[0]):\n",
    "                suma = 0\n",
    "                for k in range(np.shape(A)[1]):\n",
    "                    suma += A[j][k]*B[k][i]  \n",
    "                AB[j][i] = suma\n",
    "    else:\n",
    "        AB = None\n",
    "        print('Multiplicación no está definida')\n",
    "    \n",
    "    return AB\n",
    "\n",
    "def NewtonRaphson(z0,Fn,Jn,itmax=1000,error=1e-7):\n",
    "    \n",
    "    it = 0\n",
    "    d = 1.\n",
    "    \n",
    "    while d > error and it < itmax:\n",
    "        \n",
    "        # Vector actual\n",
    "        rc = z0\n",
    "\n",
    "        InvJ = np.linalg.inv(Jn(rc[0],rc[1]))\n",
    "        \n",
    "        z0 = rc - np.reshape(mulM(InvJ,Fn(rc[0],rc[1])),-1)\n",
    "        \n",
    "        d = np.max(np.abs(z0 - rc))\n",
    "        \n",
    "        it += 1\n",
    "    \n",
    "    return np.round(z0,7)\n",
    "\n",
    "def GetRoots(z0,Fn,Jn,tolerancia = 7):\n",
    "    \n",
    "    Roots = []\n",
    "    \n",
    "    for i in z0:\n",
    "        \n",
    "        root = NewtonRaphson(i,Fn,Jn)\n",
    "        #print(root)\n",
    "\n",
    "        if  type(root)!=bool:\n",
    "            croot = tuple(root)\n",
    "\n",
    "            if croot not in Roots:\n",
    "                Roots.append(croot)\n",
    "    Roots.sort()\n",
    "    \n",
    "    return Roots"
   ]
  },
  {
   "cell_type": "code",
   "execution_count": 3,
   "metadata": {},
   "outputs": [],
   "source": [
    "w = 114.6\n",
    "q = 3./10000.\n",
    "k = 9000000000.\n",
    "l = 5."
   ]
  },
  {
   "cell_type": "code",
   "execution_count": 4,
   "metadata": {},
   "outputs": [
    {
     "data": {
      "text/plain": [
       "[(-0.8385682, 0.0),\n",
       " (-0.6852563, -0.9061868),\n",
       " (-0.6852563, 0.9061868),\n",
       " (0.6852563, -0.9061868),\n",
       " (0.6852563, 0.9061868),\n",
       " (0.8385682, 0.0)]"
      ]
     },
     "execution_count": 4,
     "metadata": {},
     "output_type": "execute_result"
    }
   ],
   "source": [
    "x , y = sym.symbols('x y', real=True)\n",
    "z = x + sym.I*y\n",
    "f = (z**6) + ((((2*np.sqrt(2)+1)*k*(q**2))/((l**2)*w))**2)*(z**2) - ((((2*np.sqrt(2)+1)*k*(q**2))/((l**2)*w))**2)\n",
    "#f = (z**6) + (((9+4*np.sqrt(2))*72900)/36481)*(z**2) - (((9+4*np.sqrt(2))*72900)/36481)\n",
    "F = sym.Matrix([sym.re(f),sym.im(f)])\n",
    "J = F.jacobian(sym.Matrix([x,y]))\n",
    "Fn = sym.lambdify([x,y],F,'numpy')\n",
    "Jn = sym.lambdify([x,y],J,'numpy')\n",
    "\n",
    "N = 6\n",
    "x = np.linspace(-1, 1, N)\n",
    "y = np.linspace(-1.5, 1.5, N)\n",
    "\n",
    "R = []\n",
    "for i in range(N):\n",
    "    for j in range(N):\n",
    "        r = np.array([x[i],y[j]])\n",
    "        R.append(r)\n",
    "\n",
    "Roots = GetRoots(R,Fn,Jn)\n",
    "Roots"
   ]
  },
  {
   "cell_type": "code",
   "execution_count": 5,
   "metadata": {},
   "outputs": [
    {
     "data": {
      "text/plain": [
       "Text(0, 0.5, 'Im')"
      ]
     },
     "execution_count": 5,
     "metadata": {},
     "output_type": "execute_result"
    },
    {
     "data": {
      "image/png": "[encoded data removed]",
      "text/plain": [
       "<Figure size 432x288 with 1 Axes>"
      ]
     },
     "metadata": {
      "needs_background": "light"
     },
     "output_type": "display_data"
    }
   ],
   "source": [
    "for i in Roots:\n",
    "    plt.scatter(i[0],i[1])\n",
    "\n",
    "plt.axhline(0, color='black')\n",
    "plt.axvline(0, color='black')\n",
    "plt.xlabel('Re')\n",
    "plt.ylabel('Im')"
   ]
  },
  {
   "cell_type": "markdown",
   "metadata": {},
   "source": [
    "Como sabemos que:\n",
    "\n",
    "$\\displaystyle u = \\sin{\\left(\\theta \\right)}$\n",
    "\n",
    "$\\displaystyle 0 \\geq \\theta \\geq \\pi/2 , \\theta \\in \\mathbb{R}$\n",
    "\n",
    "Entonces solo consideraremos la raiz real positiva."
   ]
  },
  {
   "cell_type": "code",
   "execution_count": 6,
   "metadata": {},
   "outputs": [
    {
     "data": {
      "text/plain": [
       "56.99"
      ]
     },
     "execution_count": 6,
     "metadata": {},
     "output_type": "execute_result"
    }
   ],
   "source": [
    "teta = (np.arcsin(Roots[-1][0])*180)/np.pi\n",
    "round(teta,2)"
   ]
  },
  {
   "cell_type": "markdown",
   "metadata": {},
   "source": [
    "$% \\usepackage{gensymb}$\n",
    "$\\displaystyle \\theta \\approx 57\\degree$"
   ]
  }
 ],
 "metadata": {
  "kernelspec": {
   "display_name": "base",
   "language": "python",
   "name": "python3"
  },
  "language_info": {
   "codemirror_mode": {
    "name": "ipython",
    "version": 3
   },
   "file_extension": ".py",
   "mimetype": "text/x-python",
   "name": "python",
   "nbconvert_exporter": "python",
   "pygments_lexer": "ipython3",
   "version": "3.9.7"
  }
 },
 "nbformat": 4,
 "nbformat_minor": 2
}
