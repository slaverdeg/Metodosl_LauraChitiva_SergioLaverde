{
 "cells": [
  {
   "cell_type": "code",
   "execution_count": 352,
   "metadata": {},
   "outputs": [
    {
     "name": "stdout",
     "output_type": "stream",
     "text": [
      "IPython console for SymPy 1.9 (Python 3.9.7-64-bit) (ground types: python)\n",
      "\n",
      "These commands were executed:\n",
      ">>> from __future__ import division\n",
      ">>> from sympy import *\n",
      ">>> x, y, z, t = symbols('x y z t')\n",
      ">>> k, m, n = symbols('k m n', integer=True)\n",
      ">>> f, g, h = symbols('f g h', cls=Function)\n",
      ">>> init_printing()\n",
      "\n",
      "Documentation can be found at https://docs.sympy.org/1.9/\n",
      "\n"
     ]
    }
   ],
   "source": [
    "import numpy as np\n",
    "from sympy import init_session\n",
    "import itertools\n",
    "init_session(use_latex=True)"
   ]
  },
  {
   "cell_type": "code",
   "execution_count": 353,
   "metadata": {},
   "outputs": [],
   "source": [
    "def mulM(A,B,type=np.float64):\n",
    "\n",
    "    if len(np.shape(A)) == 1:\n",
    "        A = np.reshape(A,(1,len(A)))\n",
    "\n",
    "    if len(np.shape(B)) == 1:\n",
    "        B = np.reshape(B,(len(B),1))\n",
    "\n",
    "    AB = np.zeros(shape=(np.shape(A)[0],np.shape(B)[1]),dtype=type)\n",
    "\n",
    "    if np.shape(A)[1] == np.shape(B)[0]:\n",
    "        for i in range(np.shape(B)[1]):\n",
    "            for j in range(np.shape(A)[0]):\n",
    "                suma = 0\n",
    "                for k in range(np.shape(A)[1]):\n",
    "                    suma += A[j][k]*B[k][i]  \n",
    "                AB[j][i] = suma\n",
    "    else:\n",
    "        AB = None\n",
    "        print('Multiplicación no está definida')\n",
    "    \n",
    "    return AB\n",
    "    \n",
    "def conmutador(A,B):\n",
    "    return mulM(A,B,type=np.complex128) - mulM(B,A,type=np.complex128)\n",
    "\n",
    "def Levi_Civita_R3(tupla):\n",
    "    i = tupla[0]\n",
    "    j = tupla[1]\n",
    "    k = tupla[2]\n",
    "\n",
    "    if i==j or j==k or k==i:\n",
    "        return 0.\n",
    "    \n",
    "    else:\n",
    "        p = 0.\n",
    "        if i != 1:\n",
    "            p += 1.\n",
    "        if j != 2:\n",
    "            p += 1.\n",
    "        if k != 3:\n",
    "            p += 1.\n",
    "\n",
    "    if p == 0.:\n",
    "        return 1.\n",
    "    elif p%2 == 0:\n",
    "        return -1.\n",
    "    else:\n",
    "        return 1.\n",
    "    \n",
    "\n",
    "def Get_terms (SU2, o):\n",
    "    z = 0 + 1j\n",
    "    i = o[0]\n",
    "    j = o[1]\n",
    "\n",
    "    if i == j:\n",
    "        k = np.random.randint(1,4)\n",
    "    elif i + j == 3:\n",
    "        k = 3\n",
    "    elif i + j == 4:\n",
    "        k = 2\n",
    "    else:\n",
    "        k = 1\n",
    "\n",
    "    t = (i,j,k)\n",
    "\n",
    "    sigma_i = SU2[i-1]\n",
    "    sigma_j = SU2[j-1]\n",
    "    sigma_k = SU2[k-1]\n",
    "\n",
    "    return conmutador(sigma_i,sigma_j) , 2*Levi_Civita_R3(t)*sigma_k*(z)\n",
    "\n"
   ]
  },
  {
   "cell_type": "code",
   "execution_count": 354,
   "metadata": {},
   "outputs": [],
   "source": [
    "z = np.complex128(0 + 1j)\n",
    "sigma_x = np.array([[0.,1.],\n",
    "                    [1.,0.]],dtype=np.complex128)\n",
    "\n",
    "sigma_y = np.array([[0.,-z],\n",
    "                    [z,0.]],dtype=np.complex128)\n",
    "\n",
    "sigma_z = np.array([[1.,0.],\n",
    "                    [0.,-1.]],dtype=np.complex128)\n",
    "\n",
    "SU2 = np.array([sigma_x,sigma_y,sigma_z])"
   ]
  },
  {
   "cell_type": "markdown",
   "metadata": {},
   "source": [
    "Verificamos el álgebra de Lie del grupo para todas las combinaciones posibles:"
   ]
  },
  {
   "cell_type": "code",
   "execution_count": 355,
   "metadata": {},
   "outputs": [
    {
     "name": "stdout",
     "output_type": "stream",
     "text": [
      "True\n",
      "True\n",
      "True\n",
      "True\n",
      "True\n",
      "True\n",
      "True\n",
      "True\n",
      "True\n"
     ]
    }
   ],
   "source": [
    "digits = [1, 2, 3]\n",
    "combinations = list(itertools.product(digits, repeat=2))\n",
    "\n",
    "for i in combinations:\n",
    "    c,r = Get_terms(SU2,i)\n",
    "    print(Matrix(c) == Matrix(r))"
   ]
  }
 ],
 "metadata": {
  "kernelspec": {
   "display_name": "base",
   "language": "python",
   "name": "python3"
  },
  "language_info": {
   "codemirror_mode": {
    "name": "ipython",
    "version": 3
   },
   "file_extension": ".py",
   "mimetype": "text/x-python",
   "name": "python",
   "nbconvert_exporter": "python",
   "pygments_lexer": "ipython3",
   "version": "3.9.7"
  }
 },
 "nbformat": 4,
 "nbformat_minor": 2
}
