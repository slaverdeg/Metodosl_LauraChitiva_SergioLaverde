{
 "cells": [
  {
   "cell_type": "code",
   "execution_count": 30,
   "metadata": {},
   "outputs": [
    {
     "name": "stdout",
     "output_type": "stream",
     "text": [
      "IPython console for SymPy 1.9 (Python 3.9.7-64-bit) (ground types: python)\n",
      "\n",
      "These commands were executed:\n",
      ">>> from __future__ import division\n",
      ">>> from sympy import *\n",
      ">>> x, y, z, t = symbols('x y z t')\n",
      ">>> k, m, n = symbols('k m n', integer=True)\n",
      ">>> f, g, h = symbols('f g h', cls=Function)\n",
      ">>> init_printing()\n",
      "\n",
      "Documentation can be found at https://docs.sympy.org/1.9/\n",
      "\n"
     ]
    }
   ],
   "source": [
    "import numpy as np\n",
    "from sympy import init_session\n",
    "init_session(use_latex=True)"
   ]
  },
  {
   "cell_type": "code",
   "execution_count": 31,
   "metadata": {},
   "outputs": [],
   "source": [
    "def mulM(A,B):\n",
    "\n",
    "    if len(np.shape(A)) == 1:\n",
    "        A = np.reshape(A,(1,len(A)))\n",
    "\n",
    "    if len(np.shape(B)) == 1:\n",
    "        B = np.reshape(B,(len(B),1))\n",
    "\n",
    "    AB = np.zeros(shape=(np.shape(A)[0],np.shape(B)[1]))\n",
    "\n",
    "    if np.shape(A)[1] == np.shape(B)[0]:\n",
    "        for i in range(np.shape(B)[1]):\n",
    "            for j in range(np.shape(A)[0]):\n",
    "                suma = 0\n",
    "                for k in range(np.shape(A)[1]):\n",
    "                    suma += A[j][k]*B[k][i]\n",
    "                AB[j][i] = suma\n",
    "    else:\n",
    "        AB = None\n",
    "        print('Multiplicación no está definida')\n",
    "    \n",
    "    return AB"
   ]
  },
  {
   "cell_type": "code",
   "execution_count": 32,
   "metadata": {},
   "outputs": [],
   "source": [
    "def GetValorAndVectorMinor(A,v,its=11):\n",
    "    A = np.linalg.inv(A)\n",
    "    for i in range(its):\n",
    "        vn = v/(np.linalg.norm(v))\n",
    "        v = mulM(A,vn)\n",
    "        lam = mulM(vn.T,v)\n",
    "\n",
    "    v = v/(np.linalg.norm(v))\n",
    "\n",
    "    return 1/lam, v"
   ]
  },
  {
   "cell_type": "code",
   "execution_count": 33,
   "metadata": {},
   "outputs": [],
   "source": [
    "H = np.array([[1,2,-1],\n",
    "             [1,0,1],\n",
    "             [4,-4,5]])\n",
    "\n",
    "v = np.array([1,1,1])\n",
    "\n",
    "E0,psi0 = GetValorAndVectorMinor(H,-v)"
   ]
  },
  {
   "cell_type": "markdown",
   "metadata": {},
   "source": [
    "- Valor de estado base:"
   ]
  },
  {
   "cell_type": "code",
   "execution_count": 34,
   "metadata": {},
   "outputs": [
    {
     "data": {
      "image/png": "[encoded data removed]",
      "text/latex": [
       "$\\displaystyle E_{0} = 0.998823963079798$"
      ],
      "text/plain": [
       "E₀ = 0.998823963079798"
      ]
     },
     "execution_count": 34,
     "metadata": {},
     "output_type": "execute_result"
    }
   ],
   "source": [
    "E0_ = Symbol('E_0')\n",
    "\n",
    "exp = Eq(E0_,E0[0][0])\n",
    "exp"
   ]
  },
  {
   "cell_type": "markdown",
   "metadata": {},
   "source": [
    "- Vector propio asosiado"
   ]
  },
  {
   "cell_type": "code",
   "execution_count": 35,
   "metadata": {},
   "outputs": [
    {
     "data": {
      "text/latex": [
       "$\\displaystyle \\left[\\begin{matrix}\\Psi_{0 i}\\\\\\Psi_{0 j}\\\\\\Psi_{0 k}\\end{matrix}\\right] = \\left[\\begin{matrix}0.408202390089175\\\\-0.408468491838056\\\\-0.816409394789789\\end{matrix}\\right]$"
      ],
      "text/plain": [
       "⎡Ψ₀ ᵢ ⎤   ⎡0.408202390089175 ⎤\n",
       "⎢     ⎥   ⎢                  ⎥\n",
       "⎢Ψ_0_j⎥ = ⎢-0.408468491838056⎥\n",
       "⎢     ⎥   ⎢                  ⎥\n",
       "⎣Ψ₀ ₖ ⎦   ⎣-0.816409394789789⎦"
      ]
     },
     "execution_count": 35,
     "metadata": {},
     "output_type": "execute_result"
    }
   ],
   "source": [
    "Psi0x, Psi0y, Psi0z = symbols('Psi_0_i Psi_0_j Psi_0_k')\n",
    "\n",
    "exp = Eq(Matrix([Psi0x,Psi0y,Psi0z]),(Matrix(psi0)))\n",
    "exp"
   ]
  }
 ],
 "metadata": {
  "kernelspec": {
   "display_name": "base",
   "language": "python",
   "name": "python3"
  },
  "language_info": {
   "codemirror_mode": {
    "name": "ipython",
    "version": 3
   },
   "file_extension": ".py",
   "mimetype": "text/x-python",
   "name": "python",
   "nbconvert_exporter": "python",
   "pygments_lexer": "ipython3",
   "version": "3.9.7"
  }
 },
 "nbformat": 4,
 "nbformat_minor": 2
}
