{
 "cells": [
  {
   "cell_type": "code",
   "execution_count": 544,
   "metadata": {},
   "outputs": [],
   "source": [
    "import sympy as sym\n",
    "import numpy as np\n",
    "import matplotlib.pyplot as plt"
   ]
  },
  {
   "cell_type": "code",
   "execution_count": 545,
   "metadata": {},
   "outputs": [],
   "source": [
    "def mulM(A,B,type=np.float64):\n",
    "\n",
    "    if len(np.shape(A)) == 1:\n",
    "        A = np.reshape(A,(1,len(A)))\n",
    "\n",
    "    if len(np.shape(B)) == 1:\n",
    "        B = np.reshape(B,(len(B),1))\n",
    "\n",
    "    AB = np.zeros(shape=(np.shape(A)[0],np.shape(B)[1]),dtype=type)\n",
    "\n",
    "    if np.shape(A)[1] == np.shape(B)[0]:\n",
    "        for i in range(np.shape(B)[1]):\n",
    "            for j in range(np.shape(A)[0]):\n",
    "                suma = 0\n",
    "                for k in range(np.shape(A)[1]):\n",
    "                    suma += A[j][k]*B[k][i]  \n",
    "                AB[j][i] = suma\n",
    "    else:\n",
    "        AB = None\n",
    "        print('Multiplicación no está definida')\n",
    "    \n",
    "    return AB"
   ]
  },
  {
   "cell_type": "markdown",
   "metadata": {},
   "source": [
    "# Problema de Cayley y los fractales 1879"
   ]
  },
  {
   "cell_type": "markdown",
   "metadata": {},
   "source": [
    "a)"
   ]
  },
  {
   "cell_type": "code",
   "execution_count": 546,
   "metadata": {},
   "outputs": [
    {
     "data": {
      "text/plain": [
       "(x, y)"
      ]
     },
     "execution_count": 546,
     "metadata": {},
     "output_type": "execute_result"
    }
   ],
   "source": [
    "x , y = sym.symbols('x y', real=True)\n",
    "x,y"
   ]
  },
  {
   "cell_type": "markdown",
   "metadata": {},
   "source": [
    "b)"
   ]
  },
  {
   "cell_type": "code",
   "execution_count": 547,
   "metadata": {},
   "outputs": [
    {
     "data": {
      "text/latex": [
       "$\\displaystyle x + i y$"
      ],
      "text/plain": [
       "x + I*y"
      ]
     },
     "execution_count": 547,
     "metadata": {},
     "output_type": "execute_result"
    }
   ],
   "source": [
    "z = x + sym.I*y\n",
    "z"
   ]
  },
  {
   "cell_type": "markdown",
   "metadata": {},
   "source": [
    "c)"
   ]
  },
  {
   "cell_type": "code",
   "execution_count": 548,
   "metadata": {},
   "outputs": [
    {
     "data": {
      "text/latex": [
       "$\\displaystyle x^{3} - 3 x y^{2} + i \\left(3 x^{2} y - y^{3}\\right) - 1$"
      ],
      "text/plain": [
       "x**3 - 3*x*y**2 + I*(3*x**2*y - y**3) - 1"
      ]
     },
     "execution_count": 548,
     "metadata": {},
     "output_type": "execute_result"
    }
   ],
   "source": [
    "f = z**3 - 1\n",
    "sym.expand_complex(f)"
   ]
  },
  {
   "cell_type": "markdown",
   "metadata": {},
   "source": [
    "d)"
   ]
  },
  {
   "cell_type": "code",
   "execution_count": 549,
   "metadata": {},
   "outputs": [
    {
     "data": {
      "text/latex": [
       "$\\displaystyle \\left[\\begin{matrix}x^{3} - 3 x y^{2} - 1\\\\3 x^{2} y - y^{3}\\end{matrix}\\right]$"
      ],
      "text/plain": [
       "Matrix([\n",
       "[x**3 - 3*x*y**2 - 1],\n",
       "[    3*x**2*y - y**3]])"
      ]
     },
     "execution_count": 549,
     "metadata": {},
     "output_type": "execute_result"
    }
   ],
   "source": [
    "F = sym.Matrix([sym.re(f),sym.im(f)])\n",
    "F"
   ]
  },
  {
   "cell_type": "markdown",
   "metadata": {},
   "source": [
    "e)"
   ]
  },
  {
   "cell_type": "code",
   "execution_count": 550,
   "metadata": {},
   "outputs": [
    {
     "data": {
      "text/latex": [
       "$\\displaystyle \\left[\\begin{matrix}3 x^{2} - 3 y^{2} & - 6 x y\\\\6 x y & 3 x^{2} - 3 y^{2}\\end{matrix}\\right]$"
      ],
      "text/plain": [
       "Matrix([\n",
       "[3*x**2 - 3*y**2,          -6*x*y],\n",
       "[          6*x*y, 3*x**2 - 3*y**2]])"
      ]
     },
     "execution_count": 550,
     "metadata": {},
     "output_type": "execute_result"
    }
   ],
   "source": [
    "J = F.jacobian(sym.Matrix([x,y]))\n",
    "J"
   ]
  },
  {
   "cell_type": "markdown",
   "metadata": {},
   "source": [
    "f)"
   ]
  },
  {
   "cell_type": "code",
   "execution_count": 551,
   "metadata": {},
   "outputs": [],
   "source": [
    "Fn = sym.lambdify([x,y],F,'numpy')\n",
    "Jn = sym.lambdify([x,y],J,'numpy')"
   ]
  },
  {
   "cell_type": "markdown",
   "metadata": {},
   "source": [
    "g)"
   ]
  },
  {
   "cell_type": "code",
   "execution_count": 552,
   "metadata": {},
   "outputs": [],
   "source": [
    "def NewtonRaphson(z0,Fn,Jn,itmax=1000,error=1e-7):\n",
    "    \n",
    "    it = 0\n",
    "    d = 1.\n",
    "    \n",
    "    while d > error and it < itmax:\n",
    "        \n",
    "        # Vector actual\n",
    "        rc = z0\n",
    "\n",
    "        InvJ = np.linalg.inv(Jn(rc[0],rc[1]))\n",
    "        \n",
    "        z0 = rc - np.reshape(mulM(InvJ,Fn(rc[0],rc[1])),-1)\n",
    "        \n",
    "        d = np.max(np.abs(z0 - rc))\n",
    "        \n",
    "        it += 1\n",
    "    \n",
    "    return np.round(z0,7)"
   ]
  },
  {
   "cell_type": "markdown",
   "metadata": {},
   "source": [
    "h)"
   ]
  },
  {
   "cell_type": "code",
   "execution_count": 553,
   "metadata": {},
   "outputs": [
    {
     "data": {
      "text/plain": [
       "array([-0.5      ,  0.8660254])"
      ]
     },
     "execution_count": 553,
     "metadata": {},
     "output_type": "execute_result"
    }
   ],
   "source": [
    "z0 = np.array([0.5,0.5])\n",
    "z = NewtonRaphson(z0,Fn,Jn)\n",
    "z"
   ]
  },
  {
   "cell_type": "markdown",
   "metadata": {},
   "source": [
    "i)"
   ]
  },
  {
   "cell_type": "code",
   "execution_count": 554,
   "metadata": {},
   "outputs": [],
   "source": [
    "N = 300\n",
    "x = np.linspace(-1, 1, N)\n",
    "y = np.linspace(-1, 1, N)"
   ]
  },
  {
   "cell_type": "markdown",
   "metadata": {},
   "source": [
    "j)"
   ]
  },
  {
   "cell_type": "code",
   "execution_count": 555,
   "metadata": {},
   "outputs": [
    {
     "data": {
      "text/plain": [
       "array([[100, 100, 100, ...,  20,  20,  20],\n",
       "       [100, 100, 100, ...,  20,  20,  20],\n",
       "       [100, 100, 100, ...,  20,  20,  20],\n",
       "       ...,\n",
       "       [255, 255, 255, ..., 255, 255, 255],\n",
       "       [255, 255, 255, ..., 255, 255, 255],\n",
       "       [255, 255, 255, ..., 255, 255, 255]], dtype=int64)"
      ]
     },
     "execution_count": 555,
     "metadata": {},
     "output_type": "execute_result"
    }
   ],
   "source": [
    "Fractal = np.zeros((N,N), np.int64)\n",
    "\n",
    "for i in range(N):\n",
    "    for j in range(N):\n",
    "        r = np.array([x[i],y[j]])\n",
    "        if np.array_equiv(NewtonRaphson(r,Fn,Jn),np.array([-0.5,round(np.sqrt(3)/2,7)])):\n",
    "            Fractal[i][j] = 20\n",
    "        elif np.array_equiv(NewtonRaphson(r,Fn,Jn),np.array([-0.5,-1*round(np.sqrt(3)/2,7)])):\n",
    "            Fractal[i][j] = 100\n",
    "        elif np.array_equiv(NewtonRaphson(r,Fn,Jn),np.array([1.,0.])):\n",
    "            Fractal[i][j] = 255\n",
    "        else:\n",
    "            None    \n",
    "Fractal"
   ]
  },
  {
   "cell_type": "markdown",
   "metadata": {},
   "source": [
    "k)"
   ]
  },
  {
   "cell_type": "code",
   "execution_count": 556,
   "metadata": {},
   "outputs": [
    {
     "data": {
      "text/plain": [
       "<matplotlib.image.AxesImage at 0x1e678721be0>"
      ]
     },
     "execution_count": 556,
     "metadata": {},
     "output_type": "execute_result"
    },
    {
     "data": {
      "image/png": "[encoded data removed]",
      "text/plain": [
       "<Figure size 432x288 with 1 Axes>"
      ]
     },
     "metadata": {
      "needs_background": "light"
     },
     "output_type": "display_data"
    }
   ],
   "source": [
    "plt.imshow(Fractal, cmap='coolwarm' ,extent=[-1,1,-1,1])"
   ]
  }
 ],
 "metadata": {
  "kernelspec": {
   "display_name": "base",
   "language": "python",
   "name": "python3"
  },
  "language_info": {
   "codemirror_mode": {
    "name": "ipython",
    "version": 3
   },
   "file_extension": ".py",
   "mimetype": "text/x-python",
   "name": "python",
   "nbconvert_exporter": "python",
   "pygments_lexer": "ipython3",
   "version": "3.9.7"
  }
 },
 "nbformat": 4,
 "nbformat_minor": 2
}
